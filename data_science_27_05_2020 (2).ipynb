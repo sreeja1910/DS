{
  "nbformat": 4,
  "nbformat_minor": 0,
  "metadata": {
    "colab": {
      "name": "data science 27-05-2020",
      "provenance": [],
      "collapsed_sections": []
    },
    "kernelspec": {
      "name": "python3",
      "display_name": "Python 3"
    }
  },
  "cells": [
    {
      "cell_type": "code",
      "metadata": {
        "id": "vv_jd7JOFVEX",
        "colab_type": "code",
        "colab": {}
      },
      "source": [
        ""
      ],
      "execution_count": 0,
      "outputs": []
    },
    {
      "cell_type": "markdown",
      "metadata": {
        "id": "NuTgcl5kFbWE",
        "colab_type": "text"
      },
      "source": [
        "fibonacci series\n"
      ]
    },
    {
      "cell_type": "code",
      "metadata": {
        "id": "26chOqHWFeu0",
        "colab_type": "code",
        "colab": {
          "base_uri": "https://localhost:8080/",
          "height": 85
        },
        "outputId": "141d9d77-139b-4e95-8824-db61c0308714"
      },
      "source": [
        "n=int(input(\"enter number of terms\"))\n",
        "i=1\n",
        "t1=0\n",
        "t2=1\n",
        "while(i<n):\n",
        "  print(t1)\n",
        "  next=t1+t2\n",
        "  t1=t2\n",
        "  t2=next\n",
        "  i=i+1"
      ],
      "execution_count": 1,
      "outputs": [
        {
          "output_type": "stream",
          "text": [
            "enter number of terms4\n",
            "0\n",
            "1\n",
            "1\n"
          ],
          "name": "stdout"
        }
      ]
    }
  ]
}