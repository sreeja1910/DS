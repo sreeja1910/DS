{
 "cells": [
  {
   "cell_type": "code",
   "execution_count": 1,
   "metadata": {},
   "outputs": [
    {
     "name": "stdout",
     "output_type": "stream",
     "text": [
      "enter n6\n",
      "120\n"
     ]
    }
   ],
   "source": [
    "# factorial of a number\n",
    "def fact(n):\n",
    "    if n==1:\n",
    "        return n\n",
    "    else:\n",
    "        return n*fact(n-1)\n",
    "n=int(input('enter n'))         \n",
    "print(fact(5))"
   ]
  },
  {
   "cell_type": "code",
   "execution_count": 2,
   "metadata": {},
   "outputs": [
    {
     "name": "stdout",
     "output_type": "stream",
     "text": [
      "enter n5\n",
      "0\n",
      "1\n",
      "1\n",
      "2\n",
      "3\n"
     ]
    }
   ],
   "source": [
    "# fibonacci numbers using recursion\n",
    "def fib(n):\n",
    "    if n<=1:\n",
    "        return n\n",
    "    else:\n",
    "        return(fib(n-1)+fib(n-2))\n",
    "    \n",
    "n=int(input('enter n'))\n",
    "for i in range(n):   \n",
    "         print(fib(i))"
   ]
  },
  {
   "cell_type": "code",
   "execution_count": 3,
   "metadata": {},
   "outputs": [
    {
     "name": "stdout",
     "output_type": "stream",
     "text": [
      "100\n"
     ]
    }
   ],
   "source": [
    "#list of elements without using sum() function\n",
    "list1=[10,20,30,40]\n",
    "sum=0;\n",
    "for i in range(0,len(list1)):\n",
    "    sum=sum+list1[i]\n",
    "    \n",
    "print(sum)"
   ]
  },
  {
   "cell_type": "code",
   "execution_count": 1,
   "metadata": {},
   "outputs": [
    {
     "name": "stdout",
     "output_type": "stream",
     "text": [
      "10\n",
      "26\n",
      "98\n",
      "90\n",
      "2\n",
      "62\n"
     ]
    }
   ],
   "source": [
    "# even numbers from the list\n",
    "l1=[10,26,29,33,35,98,90,2,62,47]\n",
    "for i in range(0,len(l1)):\n",
    "    if l1[i]%2==0:\n",
    "        l2=print(l1[i])"
   ]
  },
  {
   "cell_type": "code",
   "execution_count": 2,
   "metadata": {},
   "outputs": [
    {
     "name": "stdout",
     "output_type": "stream",
     "text": [
      "1\n",
      "8\n"
     ]
    }
   ],
   "source": [
    "#smallest number\n",
    "l1=[11,25,43,5,69,89,101,1,56]\n",
    "s=l1[0]\n",
    "for i in range(0,len(l1)):\n",
    "    if l1[i]<s:\n",
    "        a=l1[i]\n",
    "        ind=i\n",
    "        \n",
    "        \n",
    "print(a)\n",
    "print(ind+1)"
   ]
  },
  {
   "cell_type": "code",
   "execution_count": 3,
   "metadata": {},
   "outputs": [
    {
     "name": "stdout",
     "output_type": "stream",
     "text": [
      "enter a number12\n",
      "Adam Number\n"
     ]
    }
   ],
   "source": [
    "#adam number or not or not\n",
    "def rev(n):\n",
    "    rev=0\n",
    "    while n>0:\n",
    "        rem=n%10\n",
    "        rev=rev*10+rem\n",
    "        n=n//10\n",
    "    return rev\n",
    "        \n",
    "n=int(input(\"enter a number\"))\n",
    "s1=n*n\n",
    "rev1=rev(n)\n",
    "s2=rev1*rev1\n",
    "if s1==rev(s2):\n",
    "    print(\"Adam Number\")\n",
    "else:\n",
    "    print(\"Not a Adam Number\")"
   ]
  },
  {
   "cell_type": "code",
   "execution_count": 4,
   "metadata": {},
   "outputs": [
    {
     "name": "stdout",
     "output_type": "stream",
     "text": [
      "Number of even numbers= 5\n",
      "Number of odd numbers= 4\n"
     ]
    }
   ],
   "source": [
    "# count the number of even and odd numbers\n",
    "l1= [1, 2, 3, 4, 5, 6, 7, 8, 9]\n",
    "ec=0\n",
    "oc=0\n",
    "for i in range (0,len(l1)):\n",
    "    if i%2==0:\n",
    "        ec=ec+1;\n",
    "    else:\n",
    "        oc=oc+1\n",
    "        \n",
    "print(\"Number of even numbers=\",end=\" \")\n",
    "print(ec)\n",
    "print(\"Number of odd numbers=\",end=\" \")\n",
    "print(oc)"
   ]
  },
  {
   "cell_type": "code",
   "execution_count": 5,
   "metadata": {},
   "outputs": [
    {
     "name": "stdout",
     "output_type": "stream",
     "text": [
      "0\n",
      "1\n",
      "2\n",
      "4\n",
      "5\n"
     ]
    }
   ],
   "source": [
    "# print all the numbers from 0 to 6 except 3 and 6\n",
    "for i in range (0,7):\n",
    "    if i==3 or i==6:\n",
    "        continue\n",
    "    else:\n",
    "        print(i)"
   ]
  },
  {
   "cell_type": "code",
   "execution_count": 6,
   "metadata": {},
   "outputs": [
    {
     "name": "stdout",
     "output_type": "stream",
     "text": [
      "enter a number5\n",
      "it is a prime number\n"
     ]
    }
   ],
   "source": [
    "#prime or not\n",
    "n=int(input(\"enter a number\"))\n",
    "c=0\n",
    "for i in range (2,n+1):\n",
    "    if n%i==0:\n",
    "        c=c+1\n",
    "        \n",
    "if c==1:\n",
    "    print(\"it is a prime number\")\n",
    "else:\n",
    "    print(\"not a prime number\")"
   ]
  },
  {
   "cell_type": "code",
   "execution_count": 7,
   "metadata": {},
   "outputs": [
    {
     "name": "stdout",
     "output_type": "stream",
     "text": [
      "enter a stringpython\n",
      "not a palindrome\n"
     ]
    }
   ],
   "source": [
    "#pallindrome or not\n",
    "str=input(\"enter a string\")\n",
    "if str == str[::-1]:\n",
    "    print('palindrome')\n",
    "else:\n",
    "    print('not a palindrome')\n"
   ]
  },
  {
   "cell_type": "code",
   "execution_count": null,
   "metadata": {},
   "outputs": [],
   "source": []
  }
 ],
 "metadata": {
  "kernelspec": {
   "display_name": "Python 3",
   "language": "python",
   "name": "python3"
  },
  "language_info": {
   "codemirror_mode": {
    "name": "ipython",
    "version": 3
   },
   "file_extension": ".py",
   "mimetype": "text/x-python",
   "name": "python",
   "nbconvert_exporter": "python",
   "pygments_lexer": "ipython3",
   "version": "3.7.6"
  }
 },
 "nbformat": 4,
 "nbformat_minor": 4
}
