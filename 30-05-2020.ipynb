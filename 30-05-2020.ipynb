{
 "cells": [
  {
   "cell_type": "code",
   "execution_count": 2,
   "metadata": {},
   "outputs": [],
   "source": [
    "f = open(\"test.txt\",\"w\")\n",
    "f.write('''hii!!! this is written  to count the number of lines available''')\n",
    "f.close()"
   ]
  },
  {
   "cell_type": "code",
   "execution_count": 3,
   "metadata": {},
   "outputs": [],
   "source": [
    "f=open(\"name.txt\",\"w\")\n",
    "f.write(\"this file is for using remove function\")\n",
    "f.close()"
   ]
  },
  {
   "cell_type": "code",
   "execution_count": 4,
   "metadata": {
    "scrolled": true
   },
   "outputs": [
    {
     "name": "stdout",
     "output_type": "stream",
     "text": [
      "words: 11 \n",
      "Characters: 62 \n",
      "Lines: 1\n"
     ]
    }
   ],
   "source": [
    "#Q1)Count the no.of words,no.of letters,no.of lines available in your file\n",
    "\n",
    "f=open(\"test.txt\",\"r\")\n",
    "data=f.read()\n",
    "words=data.split()\n",
    "l=data.split('\\n')\n",
    "print(\"words:\",len(words),\"\\nCharacters:\",len(data),\"\\nLines:\",len(l))"
   ]
  },
  {
   "cell_type": "code",
   "execution_count": 1,
   "metadata": {},
   "outputs": [],
   "source": [
    "#Q2)Copy the content of one file to another\n",
    "\n",
    "f=open(\"test.txt\")\n",
    "f1=open(\"output.txt\",\"a\")#a is for appending \n",
    "for line in f.readlines():\n",
    "    f1.write(line)\n",
    "f1.close()\n",
    "f.close()\n",
    "\n",
    "\n"
   ]
  },
  {
   "cell_type": "code",
   "execution_count": null,
   "metadata": {},
   "outputs": [],
   "source": [
    "#hii!!! this is written  to count the number of lines available\n",
    "#this file is for using remove function\n",
    "#this will be displayed in\"output.txt\" file"
   ]
  },
  {
   "cell_type": "code",
   "execution_count": 6,
   "metadata": {},
   "outputs": [
    {
     "name": "stdout",
     "output_type": "stream",
     "text": [
      "words starting with P: 0\n"
     ]
    }
   ],
   "source": [
    "#Q3)Display the words starting with letter 'p'\n",
    "\n",
    "f=open(\"test.txt\",\"r\")\n",
    "data=f.read()\n",
    "c=0\n",
    "for i in data.split():\n",
    "    if i.startswith('p'):\n",
    "        c=c+1\n",
    "print(\"words starting with P:\",c)        "
   ]
  },
  {
   "cell_type": "code",
   "execution_count": null,
   "metadata": {},
   "outputs": [],
   "source": []
  },
  {
   "cell_type": "code",
   "execution_count": 1,
   "metadata": {},
   "outputs": [
    {
     "name": "stdout",
     "output_type": "stream",
     "text": [
      "File Renamed\n",
      "File Removed!\n"
     ]
    }
   ],
   "source": [
    "#Q4)Rename and remove files\n",
    "\n",
    "import os\n",
    "os.rename(\"test.txt\",\"tes1.txt\")\n",
    "print(\"File Renamed\")\n",
    "os.remove(\"name.txt\")\n",
    "print(\"File Removed!\")"
   ]
  },
  {
   "cell_type": "code",
   "execution_count": null,
   "metadata": {},
   "outputs": [],
   "source": []
  }
 ],
 "metadata": {
  "kernelspec": {
   "display_name": "Python 3",
   "language": "python",
   "name": "python3"
  },
  "language_info": {
   "codemirror_mode": {
    "name": "ipython",
    "version": 3
   },
   "file_extension": ".py",
   "mimetype": "text/x-python",
   "name": "python",
   "nbconvert_exporter": "python",
   "pygments_lexer": "ipython3",
   "version": "3.7.6"
  }
 },
 "nbformat": 4,
 "nbformat_minor": 4
}
