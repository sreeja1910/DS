{
 "cells": [
  {
   "cell_type": "code",
   "execution_count": 3,
   "metadata": {},
   "outputs": [
    {
     "name": "stdout",
     "output_type": "stream",
     "text": [
      "1 .  To a good day.\n",
      "\n",
      "2 .  Mary had a little lamb.\n",
      "\n",
      "3 .  Sun rises in the east.\n"
     ]
    }
   ],
   "source": [
    "\n",
    "with open(\"sample.txt\",\"r\") as f:\n",
    "    i=1\n",
    "    for line in f:\n",
    "        print(i,\". \",line)\n",
    "        i+=1"
   ]
  },
  {
   "cell_type": "code",
   "execution_count": 5,
   "metadata": {},
   "outputs": [],
   "source": [
    "#Copy the contents of a text file into another, printing the reversed version of each input line\n",
    "with open(\"sample.txt\",\"r\") as f:\n",
    "    with open(\"sample1.txt\",\"w\") as f1:     #copying contents\n",
    "        for line in f:\n",
    "            f1.write(line)\n"
   ]
  },
  {
   "cell_type": "code",
   "execution_count": 6,
   "metadata": {},
   "outputs": [
    {
     "name": "stdout",
     "output_type": "stream",
     "text": [
      "\n",
      ".yad doog a oT\n",
      "\n",
      ".bmal elttil a dah yraM\n",
      ".tsae eht ni sesir nuS\n"
     ]
    }
   ],
   "source": [
    "with open(\"sample1.txt\",\"r\") as f1:\n",
    "        for line in f1:                    #displaying contents in reverse order\n",
    "            print(line[::-1])"
   ]
  },
  {
   "cell_type": "code",
   "execution_count": 7,
   "metadata": {},
   "outputs": [
    {
     "name": "stdout",
     "output_type": "stream",
     "text": [
      "True\n",
      "[1, 2, 3, 4]\n"
     ]
    }
   ],
   "source": [
    "#Function to find duplicates in lists\n",
    "def duplicate(l):\n",
    "    for i in l:\n",
    "        if(l.count(i)>1):\n",
    "            return True\n",
    "            break\n",
    "        else:\n",
    "            continue\n",
    "    return False\n",
    "def removed(f):\n",
    "    for i in l:\n",
    "        if i not in li:\n",
    "            li.append(i)\n",
    "    return li\n",
    "l = [1,2,3,4,2]\n",
    "li= []\n",
    "f = (duplicate(l))\n",
    "print(f)\n",
    "if(f == True):\n",
    "    print(removed(l))"
   ]
  },
  {
   "cell_type": "code",
   "execution_count": 12,
   "metadata": {},
   "outputs": [
    {
     "name": "stdout",
     "output_type": "stream",
     "text": [
      "Add: 19/8\n",
      "Subtract: 1/2\n",
      "Multiply: 10/21\n",
      "Divide: 12/5\n",
      "Power: 125/216\n"
     ]
    }
   ],
   "source": [
    "#4\n",
    "from fractions import Fraction as frac\n",
    "print('Add: ' + str(frac('5/4') + frac('9/8')))\n",
    "print('Subtract: ' + str(frac('15/20') - frac('2/8')))\n",
    "print('Multiply: ' + str(frac('2/3') * frac('5/7')))\n",
    "print('Divide: ' + str(frac('80/125') / frac('12/45')))\n",
    "print('Power: ' + str(frac('5/6') ** 3))\n"
   ]
  },
  {
   "cell_type": "code",
   "execution_count": 13,
   "metadata": {},
   "outputs": [
    {
     "name": "stdout",
     "output_type": "stream",
     "text": [
      "True\n"
     ]
    }
   ],
   "source": [
    "#5\n",
    "def ispermutation(l1,l2):\n",
    "    sum1 = sum(l1)\n",
    "    sum2 = sum(l2)\n",
    "    if sum1 == sum2:\n",
    "        return True\n",
    "    else:\n",
    "        return False\n",
    "l1 = [1,2,1]\n",
    "l2 = [1,1,2]\n",
    "print(ispermutation(l1,l2))"
   ]
  },
  {
   "cell_type": "code",
   "execution_count": null,
   "metadata": {},
   "outputs": [],
   "source": []
  }
 ],
 "metadata": {
  "kernelspec": {
   "display_name": "Python 3",
   "language": "python",
   "name": "python3"
  },
  "language_info": {
   "codemirror_mode": {
    "name": "ipython",
    "version": 3
   },
   "file_extension": ".py",
   "mimetype": "text/x-python",
   "name": "python",
   "nbconvert_exporter": "python",
   "pygments_lexer": "ipython3",
   "version": "3.7.6"
  }
 },
 "nbformat": 4,
 "nbformat_minor": 4
}
