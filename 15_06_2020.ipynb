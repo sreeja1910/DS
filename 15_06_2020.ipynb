{
  "nbformat": 4,
  "nbformat_minor": 0,
  "metadata": {
    "kernelspec": {
      "display_name": "Python 3",
      "language": "python",
      "name": "python3"
    },
    "language_info": {
      "codemirror_mode": {
        "name": "ipython",
        "version": 3
      },
      "file_extension": ".py",
      "mimetype": "text/x-python",
      "name": "python",
      "nbconvert_exporter": "python",
      "pygments_lexer": "ipython3",
      "version": "3.7.6"
    },
    "colab": {
      "name": "15-06-2020",
      "provenance": []
    }
  },
  "cells": [
    {
      "cell_type": "code",
      "metadata": {
        "id": "8D8da-AJRgN8",
        "colab_type": "code",
        "colab": {}
      },
      "source": [
        "import pandas as pd\n",
        "import numpy as np\n",
        "import matplotlib.pyplot as plt\n",
        "import sklearn"
      ],
      "execution_count": 0,
      "outputs": []
    },
    {
      "cell_type": "markdown",
      "metadata": {
        "id": "8fj6W70-RgOI",
        "colab_type": "text"
      },
      "source": [
        "1. What is the parameter we should use to mention the first row in the data set are not columns what is the value we should send for that parameter"
      ]
    },
    {
      "cell_type": "code",
      "metadata": {
        "id": "sb4R50ZiRgOK",
        "colab_type": "code",
        "colab": {},
        "outputId": "c416f261-c957-4f91-82f1-885ff0aff8cc"
      },
      "source": [
        "data = pd.read_table(\"summer.csv\")\n",
        "\n",
        "data"
      ],
      "execution_count": 0,
      "outputs": [
        {
          "output_type": "execute_result",
          "data": {
            "text/html": [
              "<div>\n",
              "<style scoped>\n",
              "    .dataframe tbody tr th:only-of-type {\n",
              "        vertical-align: middle;\n",
              "    }\n",
              "\n",
              "    .dataframe tbody tr th {\n",
              "        vertical-align: top;\n",
              "    }\n",
              "\n",
              "    .dataframe thead th {\n",
              "        text-align: right;\n",
              "    }\n",
              "</style>\n",
              "<table border=\"1\" class=\"dataframe\">\n",
              "  <thead>\n",
              "    <tr style=\"text-align: right;\">\n",
              "      <th></th>\n",
              "      <th>2018-01-01 00:01:01;read;country_7;2458151261;SEO;North America</th>\n",
              "    </tr>\n",
              "  </thead>\n",
              "  <tbody>\n",
              "    <tr>\n",
              "      <th>0</th>\n",
              "      <td>2018-01-01 00:03:20;read;country_7;2458151262;...</td>\n",
              "    </tr>\n",
              "    <tr>\n",
              "      <th>1</th>\n",
              "      <td>2018-01-01 00:04:01;read;country_7;2458151263;...</td>\n",
              "    </tr>\n",
              "    <tr>\n",
              "      <th>2</th>\n",
              "      <td>2018-01-01 00:04:02;read;country_7;2458151264;...</td>\n",
              "    </tr>\n",
              "    <tr>\n",
              "      <th>3</th>\n",
              "      <td>2018-01-01 00:05:03;read;country_8;2458151265;...</td>\n",
              "    </tr>\n",
              "    <tr>\n",
              "      <th>4</th>\n",
              "      <td>2018-01-01 00:05:42;read;country_6;2458151266;...</td>\n",
              "    </tr>\n",
              "    <tr>\n",
              "      <th>...</th>\n",
              "      <td>...</td>\n",
              "    </tr>\n",
              "    <tr>\n",
              "      <th>1789</th>\n",
              "      <td>2018-01-01 23:57:14;read;country_2;2458153051;...</td>\n",
              "    </tr>\n",
              "    <tr>\n",
              "      <th>1790</th>\n",
              "      <td>2018-01-01 23:58:33;read;country_8;2458153052;...</td>\n",
              "    </tr>\n",
              "    <tr>\n",
              "      <th>1791</th>\n",
              "      <td>2018-01-01 23:59:36;read;country_6;2458153053;...</td>\n",
              "    </tr>\n",
              "    <tr>\n",
              "      <th>1792</th>\n",
              "      <td>2018-01-01 23:59:36;read;country_7;2458153054;...</td>\n",
              "    </tr>\n",
              "    <tr>\n",
              "      <th>1793</th>\n",
              "      <td>2018-01-01 23:59:38;read;country_5;2458153055;...</td>\n",
              "    </tr>\n",
              "  </tbody>\n",
              "</table>\n",
              "<p>1794 rows × 1 columns</p>\n",
              "</div>"
            ],
            "text/plain": [
              "     2018-01-01 00:01:01;read;country_7;2458151261;SEO;North America\n",
              "0     2018-01-01 00:03:20;read;country_7;2458151262;...             \n",
              "1     2018-01-01 00:04:01;read;country_7;2458151263;...             \n",
              "2     2018-01-01 00:04:02;read;country_7;2458151264;...             \n",
              "3     2018-01-01 00:05:03;read;country_8;2458151265;...             \n",
              "4     2018-01-01 00:05:42;read;country_6;2458151266;...             \n",
              "...                                                 ...             \n",
              "1789  2018-01-01 23:57:14;read;country_2;2458153051;...             \n",
              "1790  2018-01-01 23:58:33;read;country_8;2458153052;...             \n",
              "1791  2018-01-01 23:59:36;read;country_6;2458153053;...             \n",
              "1792  2018-01-01 23:59:36;read;country_7;2458153054;...             \n",
              "1793  2018-01-01 23:59:38;read;country_5;2458153055;...             \n",
              "\n",
              "[1794 rows x 1 columns]"
            ]
          },
          "metadata": {
            "tags": []
          },
          "execution_count": 2
        }
      ]
    },
    {
      "cell_type": "code",
      "metadata": {
        "id": "8ZB7Q9dzRgOQ",
        "colab_type": "code",
        "colab": {},
        "outputId": "57ae58e8-f254-4bc6-b680-a22828089495"
      },
      "source": [
        "data = pd.read_table(\"summer.csv\",sep=\";\")\n",
        "data"
      ],
      "execution_count": 0,
      "outputs": [
        {
          "output_type": "execute_result",
          "data": {
            "text/html": [
              "<div>\n",
              "<style scoped>\n",
              "    .dataframe tbody tr th:only-of-type {\n",
              "        vertical-align: middle;\n",
              "    }\n",
              "\n",
              "    .dataframe tbody tr th {\n",
              "        vertical-align: top;\n",
              "    }\n",
              "\n",
              "    .dataframe thead th {\n",
              "        text-align: right;\n",
              "    }\n",
              "</style>\n",
              "<table border=\"1\" class=\"dataframe\">\n",
              "  <thead>\n",
              "    <tr style=\"text-align: right;\">\n",
              "      <th></th>\n",
              "      <th>2018-01-01 00:01:01</th>\n",
              "      <th>read</th>\n",
              "      <th>country_7</th>\n",
              "      <th>2458151261</th>\n",
              "      <th>SEO</th>\n",
              "      <th>North America</th>\n",
              "    </tr>\n",
              "  </thead>\n",
              "  <tbody>\n",
              "    <tr>\n",
              "      <th>0</th>\n",
              "      <td>2018-01-01 00:03:20</td>\n",
              "      <td>read</td>\n",
              "      <td>country_7</td>\n",
              "      <td>2458151262</td>\n",
              "      <td>SEO</td>\n",
              "      <td>South America</td>\n",
              "    </tr>\n",
              "    <tr>\n",
              "      <th>1</th>\n",
              "      <td>2018-01-01 00:04:01</td>\n",
              "      <td>read</td>\n",
              "      <td>country_7</td>\n",
              "      <td>2458151263</td>\n",
              "      <td>AdWords</td>\n",
              "      <td>Africa</td>\n",
              "    </tr>\n",
              "    <tr>\n",
              "      <th>2</th>\n",
              "      <td>2018-01-01 00:04:02</td>\n",
              "      <td>read</td>\n",
              "      <td>country_7</td>\n",
              "      <td>2458151264</td>\n",
              "      <td>AdWords</td>\n",
              "      <td>Europe</td>\n",
              "    </tr>\n",
              "    <tr>\n",
              "      <th>3</th>\n",
              "      <td>2018-01-01 00:05:03</td>\n",
              "      <td>read</td>\n",
              "      <td>country_8</td>\n",
              "      <td>2458151265</td>\n",
              "      <td>Reddit</td>\n",
              "      <td>North America</td>\n",
              "    </tr>\n",
              "    <tr>\n",
              "      <th>4</th>\n",
              "      <td>2018-01-01 00:05:42</td>\n",
              "      <td>read</td>\n",
              "      <td>country_6</td>\n",
              "      <td>2458151266</td>\n",
              "      <td>Reddit</td>\n",
              "      <td>North America</td>\n",
              "    </tr>\n",
              "    <tr>\n",
              "      <th>...</th>\n",
              "      <td>...</td>\n",
              "      <td>...</td>\n",
              "      <td>...</td>\n",
              "      <td>...</td>\n",
              "      <td>...</td>\n",
              "      <td>...</td>\n",
              "    </tr>\n",
              "    <tr>\n",
              "      <th>1789</th>\n",
              "      <td>2018-01-01 23:57:14</td>\n",
              "      <td>read</td>\n",
              "      <td>country_2</td>\n",
              "      <td>2458153051</td>\n",
              "      <td>AdWords</td>\n",
              "      <td>North America</td>\n",
              "    </tr>\n",
              "    <tr>\n",
              "      <th>1790</th>\n",
              "      <td>2018-01-01 23:58:33</td>\n",
              "      <td>read</td>\n",
              "      <td>country_8</td>\n",
              "      <td>2458153052</td>\n",
              "      <td>SEO</td>\n",
              "      <td>Asia</td>\n",
              "    </tr>\n",
              "    <tr>\n",
              "      <th>1791</th>\n",
              "      <td>2018-01-01 23:59:36</td>\n",
              "      <td>read</td>\n",
              "      <td>country_6</td>\n",
              "      <td>2458153053</td>\n",
              "      <td>Reddit</td>\n",
              "      <td>Asia</td>\n",
              "    </tr>\n",
              "    <tr>\n",
              "      <th>1792</th>\n",
              "      <td>2018-01-01 23:59:36</td>\n",
              "      <td>read</td>\n",
              "      <td>country_7</td>\n",
              "      <td>2458153054</td>\n",
              "      <td>AdWords</td>\n",
              "      <td>Europe</td>\n",
              "    </tr>\n",
              "    <tr>\n",
              "      <th>1793</th>\n",
              "      <td>2018-01-01 23:59:38</td>\n",
              "      <td>read</td>\n",
              "      <td>country_5</td>\n",
              "      <td>2458153055</td>\n",
              "      <td>Reddit</td>\n",
              "      <td>Asia</td>\n",
              "    </tr>\n",
              "  </tbody>\n",
              "</table>\n",
              "<p>1794 rows × 6 columns</p>\n",
              "</div>"
            ],
            "text/plain": [
              "      2018-01-01 00:01:01  read  country_7  2458151261      SEO  North America\n",
              "0     2018-01-01 00:03:20  read  country_7  2458151262      SEO  South America\n",
              "1     2018-01-01 00:04:01  read  country_7  2458151263  AdWords         Africa\n",
              "2     2018-01-01 00:04:02  read  country_7  2458151264  AdWords         Europe\n",
              "3     2018-01-01 00:05:03  read  country_8  2458151265   Reddit  North America\n",
              "4     2018-01-01 00:05:42  read  country_6  2458151266   Reddit  North America\n",
              "...                   ...   ...        ...         ...      ...            ...\n",
              "1789  2018-01-01 23:57:14  read  country_2  2458153051  AdWords  North America\n",
              "1790  2018-01-01 23:58:33  read  country_8  2458153052      SEO           Asia\n",
              "1791  2018-01-01 23:59:36  read  country_6  2458153053   Reddit           Asia\n",
              "1792  2018-01-01 23:59:36  read  country_7  2458153054  AdWords         Europe\n",
              "1793  2018-01-01 23:59:38  read  country_5  2458153055   Reddit           Asia\n",
              "\n",
              "[1794 rows x 6 columns]"
            ]
          },
          "metadata": {
            "tags": []
          },
          "execution_count": 3
        }
      ]
    },
    {
      "cell_type": "code",
      "metadata": {
        "id": "Jrf6VNGbRgOV",
        "colab_type": "code",
        "colab": {},
        "outputId": "8963be5c-fbe7-493c-f82e-13481277fce1"
      },
      "source": [
        "data = pd.read_table(\"summer.csv\",sep=\";\",header=None)\n",
        "data"
      ],
      "execution_count": 0,
      "outputs": [
        {
          "output_type": "execute_result",
          "data": {
            "text/html": [
              "<div>\n",
              "<style scoped>\n",
              "    .dataframe tbody tr th:only-of-type {\n",
              "        vertical-align: middle;\n",
              "    }\n",
              "\n",
              "    .dataframe tbody tr th {\n",
              "        vertical-align: top;\n",
              "    }\n",
              "\n",
              "    .dataframe thead th {\n",
              "        text-align: right;\n",
              "    }\n",
              "</style>\n",
              "<table border=\"1\" class=\"dataframe\">\n",
              "  <thead>\n",
              "    <tr style=\"text-align: right;\">\n",
              "      <th></th>\n",
              "      <th>0</th>\n",
              "      <th>1</th>\n",
              "      <th>2</th>\n",
              "      <th>3</th>\n",
              "      <th>4</th>\n",
              "      <th>5</th>\n",
              "    </tr>\n",
              "  </thead>\n",
              "  <tbody>\n",
              "    <tr>\n",
              "      <th>0</th>\n",
              "      <td>2018-01-01 00:01:01</td>\n",
              "      <td>read</td>\n",
              "      <td>country_7</td>\n",
              "      <td>2458151261</td>\n",
              "      <td>SEO</td>\n",
              "      <td>North America</td>\n",
              "    </tr>\n",
              "    <tr>\n",
              "      <th>1</th>\n",
              "      <td>2018-01-01 00:03:20</td>\n",
              "      <td>read</td>\n",
              "      <td>country_7</td>\n",
              "      <td>2458151262</td>\n",
              "      <td>SEO</td>\n",
              "      <td>South America</td>\n",
              "    </tr>\n",
              "    <tr>\n",
              "      <th>2</th>\n",
              "      <td>2018-01-01 00:04:01</td>\n",
              "      <td>read</td>\n",
              "      <td>country_7</td>\n",
              "      <td>2458151263</td>\n",
              "      <td>AdWords</td>\n",
              "      <td>Africa</td>\n",
              "    </tr>\n",
              "    <tr>\n",
              "      <th>3</th>\n",
              "      <td>2018-01-01 00:04:02</td>\n",
              "      <td>read</td>\n",
              "      <td>country_7</td>\n",
              "      <td>2458151264</td>\n",
              "      <td>AdWords</td>\n",
              "      <td>Europe</td>\n",
              "    </tr>\n",
              "    <tr>\n",
              "      <th>4</th>\n",
              "      <td>2018-01-01 00:05:03</td>\n",
              "      <td>read</td>\n",
              "      <td>country_8</td>\n",
              "      <td>2458151265</td>\n",
              "      <td>Reddit</td>\n",
              "      <td>North America</td>\n",
              "    </tr>\n",
              "    <tr>\n",
              "      <th>...</th>\n",
              "      <td>...</td>\n",
              "      <td>...</td>\n",
              "      <td>...</td>\n",
              "      <td>...</td>\n",
              "      <td>...</td>\n",
              "      <td>...</td>\n",
              "    </tr>\n",
              "    <tr>\n",
              "      <th>1790</th>\n",
              "      <td>2018-01-01 23:57:14</td>\n",
              "      <td>read</td>\n",
              "      <td>country_2</td>\n",
              "      <td>2458153051</td>\n",
              "      <td>AdWords</td>\n",
              "      <td>North America</td>\n",
              "    </tr>\n",
              "    <tr>\n",
              "      <th>1791</th>\n",
              "      <td>2018-01-01 23:58:33</td>\n",
              "      <td>read</td>\n",
              "      <td>country_8</td>\n",
              "      <td>2458153052</td>\n",
              "      <td>SEO</td>\n",
              "      <td>Asia</td>\n",
              "    </tr>\n",
              "    <tr>\n",
              "      <th>1792</th>\n",
              "      <td>2018-01-01 23:59:36</td>\n",
              "      <td>read</td>\n",
              "      <td>country_6</td>\n",
              "      <td>2458153053</td>\n",
              "      <td>Reddit</td>\n",
              "      <td>Asia</td>\n",
              "    </tr>\n",
              "    <tr>\n",
              "      <th>1793</th>\n",
              "      <td>2018-01-01 23:59:36</td>\n",
              "      <td>read</td>\n",
              "      <td>country_7</td>\n",
              "      <td>2458153054</td>\n",
              "      <td>AdWords</td>\n",
              "      <td>Europe</td>\n",
              "    </tr>\n",
              "    <tr>\n",
              "      <th>1794</th>\n",
              "      <td>2018-01-01 23:59:38</td>\n",
              "      <td>read</td>\n",
              "      <td>country_5</td>\n",
              "      <td>2458153055</td>\n",
              "      <td>Reddit</td>\n",
              "      <td>Asia</td>\n",
              "    </tr>\n",
              "  </tbody>\n",
              "</table>\n",
              "<p>1795 rows × 6 columns</p>\n",
              "</div>"
            ],
            "text/plain": [
              "                        0     1          2           3        4              5\n",
              "0     2018-01-01 00:01:01  read  country_7  2458151261      SEO  North America\n",
              "1     2018-01-01 00:03:20  read  country_7  2458151262      SEO  South America\n",
              "2     2018-01-01 00:04:01  read  country_7  2458151263  AdWords         Africa\n",
              "3     2018-01-01 00:04:02  read  country_7  2458151264  AdWords         Europe\n",
              "4     2018-01-01 00:05:03  read  country_8  2458151265   Reddit  North America\n",
              "...                   ...   ...        ...         ...      ...            ...\n",
              "1790  2018-01-01 23:57:14  read  country_2  2458153051  AdWords  North America\n",
              "1791  2018-01-01 23:58:33  read  country_8  2458153052      SEO           Asia\n",
              "1792  2018-01-01 23:59:36  read  country_6  2458153053   Reddit           Asia\n",
              "1793  2018-01-01 23:59:36  read  country_7  2458153054  AdWords         Europe\n",
              "1794  2018-01-01 23:59:38  read  country_5  2458153055   Reddit           Asia\n",
              "\n",
              "[1795 rows x 6 columns]"
            ]
          },
          "metadata": {
            "tags": []
          },
          "execution_count": 4
        }
      ]
    },
    {
      "cell_type": "markdown",
      "metadata": {
        "id": "P22Fj1S4RgOZ",
        "colab_type": "text"
      },
      "source": [
        "2. Read the data in the data.csv file in the proper format\n",
        "    Use ['my_datetime', 'event', 'country_code', 'user_id', 'source', 'country '] as columns\n",
        "  - check how many rows and columns are there\n",
        "  - what are the columns names\n",
        "  - what are are the row labels\n",
        "  - Write down your observation\n",
        "    - what type of data you have \n",
        "    - In the data if you have observed are there any missing values(NaN)\n",
        "  - print the datatype of each column\n",
        "  - For each data type how many columns are there\n",
        "  - Using describe function observe the different measures for numerical and categorical columns\n",
        "  - Use the info function to get the detailed info of the dataframe\n",
        "  -  Check for the duplicate values in all the columns\n",
        "  -  Replace the value “South America” from country column with NaN and fill with mode of   the column\n",
        "  - Check the count of categories being repeated in the source column.\n"
      ]
    },
    {
      "cell_type": "code",
      "metadata": {
        "id": "1StojyAyRgOa",
        "colab_type": "code",
        "colab": {},
        "outputId": "a15206be-e0c3-4370-8eef-050775bebf35"
      },
      "source": [
        "#Use ['my_datetime', 'event', 'country_code', 'user_id', 'source', 'country '] as columns\n",
        "data = pd.read_table(\"summer.csv\",sep=\";\",header=None,names=['my_datetime', 'event', 'country_code', 'user_id', 'source', 'country'])\n",
        "data"
      ],
      "execution_count": 0,
      "outputs": [
        {
          "output_type": "execute_result",
          "data": {
            "text/html": [
              "<div>\n",
              "<style scoped>\n",
              "    .dataframe tbody tr th:only-of-type {\n",
              "        vertical-align: middle;\n",
              "    }\n",
              "\n",
              "    .dataframe tbody tr th {\n",
              "        vertical-align: top;\n",
              "    }\n",
              "\n",
              "    .dataframe thead th {\n",
              "        text-align: right;\n",
              "    }\n",
              "</style>\n",
              "<table border=\"1\" class=\"dataframe\">\n",
              "  <thead>\n",
              "    <tr style=\"text-align: right;\">\n",
              "      <th></th>\n",
              "      <th>my_datetime</th>\n",
              "      <th>event</th>\n",
              "      <th>country_code</th>\n",
              "      <th>user_id</th>\n",
              "      <th>source</th>\n",
              "      <th>country</th>\n",
              "    </tr>\n",
              "  </thead>\n",
              "  <tbody>\n",
              "    <tr>\n",
              "      <th>0</th>\n",
              "      <td>2018-01-01 00:01:01</td>\n",
              "      <td>read</td>\n",
              "      <td>country_7</td>\n",
              "      <td>2458151261</td>\n",
              "      <td>SEO</td>\n",
              "      <td>North America</td>\n",
              "    </tr>\n",
              "    <tr>\n",
              "      <th>1</th>\n",
              "      <td>2018-01-01 00:03:20</td>\n",
              "      <td>read</td>\n",
              "      <td>country_7</td>\n",
              "      <td>2458151262</td>\n",
              "      <td>SEO</td>\n",
              "      <td>South America</td>\n",
              "    </tr>\n",
              "    <tr>\n",
              "      <th>2</th>\n",
              "      <td>2018-01-01 00:04:01</td>\n",
              "      <td>read</td>\n",
              "      <td>country_7</td>\n",
              "      <td>2458151263</td>\n",
              "      <td>AdWords</td>\n",
              "      <td>Africa</td>\n",
              "    </tr>\n",
              "    <tr>\n",
              "      <th>3</th>\n",
              "      <td>2018-01-01 00:04:02</td>\n",
              "      <td>read</td>\n",
              "      <td>country_7</td>\n",
              "      <td>2458151264</td>\n",
              "      <td>AdWords</td>\n",
              "      <td>Europe</td>\n",
              "    </tr>\n",
              "    <tr>\n",
              "      <th>4</th>\n",
              "      <td>2018-01-01 00:05:03</td>\n",
              "      <td>read</td>\n",
              "      <td>country_8</td>\n",
              "      <td>2458151265</td>\n",
              "      <td>Reddit</td>\n",
              "      <td>North America</td>\n",
              "    </tr>\n",
              "    <tr>\n",
              "      <th>...</th>\n",
              "      <td>...</td>\n",
              "      <td>...</td>\n",
              "      <td>...</td>\n",
              "      <td>...</td>\n",
              "      <td>...</td>\n",
              "      <td>...</td>\n",
              "    </tr>\n",
              "    <tr>\n",
              "      <th>1790</th>\n",
              "      <td>2018-01-01 23:57:14</td>\n",
              "      <td>read</td>\n",
              "      <td>country_2</td>\n",
              "      <td>2458153051</td>\n",
              "      <td>AdWords</td>\n",
              "      <td>North America</td>\n",
              "    </tr>\n",
              "    <tr>\n",
              "      <th>1791</th>\n",
              "      <td>2018-01-01 23:58:33</td>\n",
              "      <td>read</td>\n",
              "      <td>country_8</td>\n",
              "      <td>2458153052</td>\n",
              "      <td>SEO</td>\n",
              "      <td>Asia</td>\n",
              "    </tr>\n",
              "    <tr>\n",
              "      <th>1792</th>\n",
              "      <td>2018-01-01 23:59:36</td>\n",
              "      <td>read</td>\n",
              "      <td>country_6</td>\n",
              "      <td>2458153053</td>\n",
              "      <td>Reddit</td>\n",
              "      <td>Asia</td>\n",
              "    </tr>\n",
              "    <tr>\n",
              "      <th>1793</th>\n",
              "      <td>2018-01-01 23:59:36</td>\n",
              "      <td>read</td>\n",
              "      <td>country_7</td>\n",
              "      <td>2458153054</td>\n",
              "      <td>AdWords</td>\n",
              "      <td>Europe</td>\n",
              "    </tr>\n",
              "    <tr>\n",
              "      <th>1794</th>\n",
              "      <td>2018-01-01 23:59:38</td>\n",
              "      <td>read</td>\n",
              "      <td>country_5</td>\n",
              "      <td>2458153055</td>\n",
              "      <td>Reddit</td>\n",
              "      <td>Asia</td>\n",
              "    </tr>\n",
              "  </tbody>\n",
              "</table>\n",
              "<p>1795 rows × 6 columns</p>\n",
              "</div>"
            ],
            "text/plain": [
              "              my_datetime event country_code     user_id   source  \\\n",
              "0     2018-01-01 00:01:01  read    country_7  2458151261      SEO   \n",
              "1     2018-01-01 00:03:20  read    country_7  2458151262      SEO   \n",
              "2     2018-01-01 00:04:01  read    country_7  2458151263  AdWords   \n",
              "3     2018-01-01 00:04:02  read    country_7  2458151264  AdWords   \n",
              "4     2018-01-01 00:05:03  read    country_8  2458151265   Reddit   \n",
              "...                   ...   ...          ...         ...      ...   \n",
              "1790  2018-01-01 23:57:14  read    country_2  2458153051  AdWords   \n",
              "1791  2018-01-01 23:58:33  read    country_8  2458153052      SEO   \n",
              "1792  2018-01-01 23:59:36  read    country_6  2458153053   Reddit   \n",
              "1793  2018-01-01 23:59:36  read    country_7  2458153054  AdWords   \n",
              "1794  2018-01-01 23:59:38  read    country_5  2458153055   Reddit   \n",
              "\n",
              "            country  \n",
              "0     North America  \n",
              "1     South America  \n",
              "2            Africa  \n",
              "3            Europe  \n",
              "4     North America  \n",
              "...             ...  \n",
              "1790  North America  \n",
              "1791           Asia  \n",
              "1792           Asia  \n",
              "1793         Europe  \n",
              "1794           Asia  \n",
              "\n",
              "[1795 rows x 6 columns]"
            ]
          },
          "metadata": {
            "tags": []
          },
          "execution_count": 5
        }
      ]
    },
    {
      "cell_type": "code",
      "metadata": {
        "id": "KlyaH0C3RgOf",
        "colab_type": "code",
        "colab": {},
        "outputId": "a605ed90-6f5e-49e4-8d93-47ef381db74b"
      },
      "source": [
        "#check how many rows and columns are there\n",
        "print(\"No of rows:\",data.shape[0])\n",
        "print(\"No of columns:\",data.shape[1])"
      ],
      "execution_count": 0,
      "outputs": [
        {
          "output_type": "stream",
          "text": [
            "No of rows: 1795\n",
            "No of columns: 6\n"
          ],
          "name": "stdout"
        }
      ]
    },
    {
      "cell_type": "code",
      "metadata": {
        "id": "g5iJnIN3RgOn",
        "colab_type": "code",
        "colab": {},
        "outputId": "6ac36d82-5410-41bc-cc72-c04b1667036c"
      },
      "source": [
        "#what are are the row labels\n",
        "print(\"row labels\")\n",
        "print(data.index.values)"
      ],
      "execution_count": 0,
      "outputs": [
        {
          "output_type": "stream",
          "text": [
            "row labels\n",
            "[   0    1    2 ... 1792 1793 1794]\n"
          ],
          "name": "stdout"
        }
      ]
    },
    {
      "cell_type": "code",
      "metadata": {
        "id": "IILk7V-HRgOs",
        "colab_type": "code",
        "colab": {},
        "outputId": "30ecaa93-bdba-4c91-a635-0a737a8cf97d"
      },
      "source": [
        "print(\"column labels\")\n",
        "print(data.columns.values)"
      ],
      "execution_count": 0,
      "outputs": [
        {
          "output_type": "stream",
          "text": [
            "column labels\n",
            "['my_datetime' 'event' 'country_code' 'user_id' 'source' 'country']\n"
          ],
          "name": "stdout"
        }
      ]
    },
    {
      "cell_type": "code",
      "metadata": {
        "id": "HNFJpLKxRgOv",
        "colab_type": "code",
        "colab": {},
        "outputId": "5826cc7d-faad-4d66-c7df-8cef6a7be34a"
      },
      "source": [
        "##- Write down your observation\n",
        "#- what type of data you have \n",
        "#   - In the data if you have observed are there any missing values(NaN)\n",
        "data.dtypes"
      ],
      "execution_count": 0,
      "outputs": [
        {
          "output_type": "execute_result",
          "data": {
            "text/plain": [
              "my_datetime     object\n",
              "event           object\n",
              "country_code    object\n",
              "user_id          int64\n",
              "source          object\n",
              "country         object\n",
              "dtype: object"
            ]
          },
          "metadata": {
            "tags": []
          },
          "execution_count": 9
        }
      ]
    },
    {
      "cell_type": "code",
      "metadata": {
        "id": "lS6Z4zwCRgO1",
        "colab_type": "code",
        "colab": {},
        "outputId": "908b0c0b-5172-41c6-c0e8-76be64f1583d"
      },
      "source": [
        "data.isnull().sum()"
      ],
      "execution_count": 0,
      "outputs": [
        {
          "output_type": "execute_result",
          "data": {
            "text/plain": [
              "my_datetime     0\n",
              "event           0\n",
              "country_code    0\n",
              "user_id         0\n",
              "source          0\n",
              "country         0\n",
              "dtype: int64"
            ]
          },
          "metadata": {
            "tags": []
          },
          "execution_count": 10
        }
      ]
    },
    {
      "cell_type": "code",
      "metadata": {
        "id": "TCOF3yj3RgO7",
        "colab_type": "code",
        "colab": {},
        "outputId": "3cfcfbb3-12a4-4ea0-c563-5aee44190333"
      },
      "source": [
        "#print the datatype of each column\n",
        "data['my_datetime'].dtypes"
      ],
      "execution_count": 0,
      "outputs": [
        {
          "output_type": "execute_result",
          "data": {
            "text/plain": [
              "dtype('O')"
            ]
          },
          "metadata": {
            "tags": []
          },
          "execution_count": 11
        }
      ]
    },
    {
      "cell_type": "code",
      "metadata": {
        "id": "pJmVA4cDRgPA",
        "colab_type": "code",
        "colab": {},
        "outputId": "f1401ec9-5c85-4ec9-a421-aefe2a2bfba0"
      },
      "source": [
        "data['event'].dtypes"
      ],
      "execution_count": 0,
      "outputs": [
        {
          "output_type": "execute_result",
          "data": {
            "text/plain": [
              "dtype('O')"
            ]
          },
          "metadata": {
            "tags": []
          },
          "execution_count": 12
        }
      ]
    },
    {
      "cell_type": "code",
      "metadata": {
        "id": "4i0Ilnv7RgPF",
        "colab_type": "code",
        "colab": {},
        "outputId": "bf56e8b8-5799-4bbe-82bc-0f292ef4a192"
      },
      "source": [
        "data['country_code'].dtypes"
      ],
      "execution_count": 0,
      "outputs": [
        {
          "output_type": "execute_result",
          "data": {
            "text/plain": [
              "dtype('O')"
            ]
          },
          "metadata": {
            "tags": []
          },
          "execution_count": 13
        }
      ]
    },
    {
      "cell_type": "code",
      "metadata": {
        "id": "m-VSev3fRgPI",
        "colab_type": "code",
        "colab": {},
        "outputId": "32f4bd1b-d841-496e-d03c-45c3e3964d38"
      },
      "source": [
        "data['user_id'].dtypes"
      ],
      "execution_count": 0,
      "outputs": [
        {
          "output_type": "execute_result",
          "data": {
            "text/plain": [
              "dtype('int64')"
            ]
          },
          "metadata": {
            "tags": []
          },
          "execution_count": 14
        }
      ]
    },
    {
      "cell_type": "code",
      "metadata": {
        "id": "i6DQO_rRRgPM",
        "colab_type": "code",
        "colab": {},
        "outputId": "23e05aa2-2e09-4b9b-b185-4897ded0e963"
      },
      "source": [
        "data['source'].dtypes"
      ],
      "execution_count": 0,
      "outputs": [
        {
          "output_type": "execute_result",
          "data": {
            "text/plain": [
              "dtype('O')"
            ]
          },
          "metadata": {
            "tags": []
          },
          "execution_count": 15
        }
      ]
    },
    {
      "cell_type": "code",
      "metadata": {
        "id": "bw_pu9pxRgPQ",
        "colab_type": "code",
        "colab": {},
        "outputId": "4dbc2cec-33e6-4f2f-ca77-3e6214b3264f"
      },
      "source": [
        "data['country'].dtypes"
      ],
      "execution_count": 0,
      "outputs": [
        {
          "output_type": "execute_result",
          "data": {
            "text/plain": [
              "dtype('O')"
            ]
          },
          "metadata": {
            "tags": []
          },
          "execution_count": 16
        }
      ]
    },
    {
      "cell_type": "code",
      "metadata": {
        "id": "DLIqCB2xRgPW",
        "colab_type": "code",
        "colab": {},
        "outputId": "8a151768-44d6-495d-b2b0-6a4b0e88fadd"
      },
      "source": [
        "#For each data type how many columns are there\n",
        "print(\"object columns:\",len(data.select_dtypes(include='O').columns))\n",
        "print(\"int columns:\",len(data.select_dtypes(include='int64').columns))"
      ],
      "execution_count": 0,
      "outputs": [
        {
          "output_type": "stream",
          "text": [
            "object columns: 5\n",
            "int columns: 1\n"
          ],
          "name": "stdout"
        }
      ]
    },
    {
      "cell_type": "code",
      "metadata": {
        "id": "_GIw9binRgPa",
        "colab_type": "code",
        "colab": {},
        "outputId": "1b33c2b7-59d6-43a7-f011-ae0464b4db56"
      },
      "source": [
        "# Using describe function observe the different measures for numerical and categorical columns\n",
        "data.describe(include='int64')"
      ],
      "execution_count": 0,
      "outputs": [
        {
          "output_type": "execute_result",
          "data": {
            "text/html": [
              "<div>\n",
              "<style scoped>\n",
              "    .dataframe tbody tr th:only-of-type {\n",
              "        vertical-align: middle;\n",
              "    }\n",
              "\n",
              "    .dataframe tbody tr th {\n",
              "        vertical-align: top;\n",
              "    }\n",
              "\n",
              "    .dataframe thead th {\n",
              "        text-align: right;\n",
              "    }\n",
              "</style>\n",
              "<table border=\"1\" class=\"dataframe\">\n",
              "  <thead>\n",
              "    <tr style=\"text-align: right;\">\n",
              "      <th></th>\n",
              "      <th>user_id</th>\n",
              "    </tr>\n",
              "  </thead>\n",
              "  <tbody>\n",
              "    <tr>\n",
              "      <th>count</th>\n",
              "      <td>1.795000e+03</td>\n",
              "    </tr>\n",
              "    <tr>\n",
              "      <th>mean</th>\n",
              "      <td>2.458152e+09</td>\n",
              "    </tr>\n",
              "    <tr>\n",
              "      <th>std</th>\n",
              "      <td>5.183162e+02</td>\n",
              "    </tr>\n",
              "    <tr>\n",
              "      <th>min</th>\n",
              "      <td>2.458151e+09</td>\n",
              "    </tr>\n",
              "    <tr>\n",
              "      <th>25%</th>\n",
              "      <td>2.458152e+09</td>\n",
              "    </tr>\n",
              "    <tr>\n",
              "      <th>50%</th>\n",
              "      <td>2.458152e+09</td>\n",
              "    </tr>\n",
              "    <tr>\n",
              "      <th>75%</th>\n",
              "      <td>2.458153e+09</td>\n",
              "    </tr>\n",
              "    <tr>\n",
              "      <th>max</th>\n",
              "      <td>2.458153e+09</td>\n",
              "    </tr>\n",
              "  </tbody>\n",
              "</table>\n",
              "</div>"
            ],
            "text/plain": [
              "            user_id\n",
              "count  1.795000e+03\n",
              "mean   2.458152e+09\n",
              "std    5.183162e+02\n",
              "min    2.458151e+09\n",
              "25%    2.458152e+09\n",
              "50%    2.458152e+09\n",
              "75%    2.458153e+09\n",
              "max    2.458153e+09"
            ]
          },
          "metadata": {
            "tags": []
          },
          "execution_count": 18
        }
      ]
    },
    {
      "cell_type": "code",
      "metadata": {
        "id": "eU7Ohnb7RgPd",
        "colab_type": "code",
        "colab": {},
        "outputId": "6e340401-90cb-4ebe-aa99-2e4f2b112187"
      },
      "source": [
        "data.describe(include='O')"
      ],
      "execution_count": 0,
      "outputs": [
        {
          "output_type": "execute_result",
          "data": {
            "text/html": [
              "<div>\n",
              "<style scoped>\n",
              "    .dataframe tbody tr th:only-of-type {\n",
              "        vertical-align: middle;\n",
              "    }\n",
              "\n",
              "    .dataframe tbody tr th {\n",
              "        vertical-align: top;\n",
              "    }\n",
              "\n",
              "    .dataframe thead th {\n",
              "        text-align: right;\n",
              "    }\n",
              "</style>\n",
              "<table border=\"1\" class=\"dataframe\">\n",
              "  <thead>\n",
              "    <tr style=\"text-align: right;\">\n",
              "      <th></th>\n",
              "      <th>my_datetime</th>\n",
              "      <th>event</th>\n",
              "      <th>country_code</th>\n",
              "      <th>source</th>\n",
              "      <th>country</th>\n",
              "    </tr>\n",
              "  </thead>\n",
              "  <tbody>\n",
              "    <tr>\n",
              "      <th>count</th>\n",
              "      <td>1795</td>\n",
              "      <td>1795</td>\n",
              "      <td>1795</td>\n",
              "      <td>1795</td>\n",
              "      <td>1795</td>\n",
              "    </tr>\n",
              "    <tr>\n",
              "      <th>unique</th>\n",
              "      <td>1773</td>\n",
              "      <td>1</td>\n",
              "      <td>8</td>\n",
              "      <td>3</td>\n",
              "      <td>6</td>\n",
              "    </tr>\n",
              "    <tr>\n",
              "      <th>top</th>\n",
              "      <td>2018-01-01 03:10:36</td>\n",
              "      <td>read</td>\n",
              "      <td>country_2</td>\n",
              "      <td>Reddit</td>\n",
              "      <td>Asia</td>\n",
              "    </tr>\n",
              "    <tr>\n",
              "      <th>freq</th>\n",
              "      <td>3</td>\n",
              "      <td>1795</td>\n",
              "      <td>462</td>\n",
              "      <td>949</td>\n",
              "      <td>667</td>\n",
              "    </tr>\n",
              "  </tbody>\n",
              "</table>\n",
              "</div>"
            ],
            "text/plain": [
              "                my_datetime event country_code  source country\n",
              "count                  1795  1795         1795    1795    1795\n",
              "unique                 1773     1            8       3       6\n",
              "top     2018-01-01 03:10:36  read    country_2  Reddit    Asia\n",
              "freq                      3  1795          462     949     667"
            ]
          },
          "metadata": {
            "tags": []
          },
          "execution_count": 19
        }
      ]
    },
    {
      "cell_type": "code",
      "metadata": {
        "id": "PjvjiUiFRgPm",
        "colab_type": "code",
        "colab": {},
        "outputId": "1c963c31-c32a-4c41-8313-8fda770454d4"
      },
      "source": [
        "#Use the info function to get the detailed info of the dataframe\n",
        "data.info()"
      ],
      "execution_count": 0,
      "outputs": [
        {
          "output_type": "stream",
          "text": [
            "<class 'pandas.core.frame.DataFrame'>\n",
            "RangeIndex: 1795 entries, 0 to 1794\n",
            "Data columns (total 6 columns):\n",
            " #   Column        Non-Null Count  Dtype \n",
            "---  ------        --------------  ----- \n",
            " 0   my_datetime   1795 non-null   object\n",
            " 1   event         1795 non-null   object\n",
            " 2   country_code  1795 non-null   object\n",
            " 3   user_id       1795 non-null   int64 \n",
            " 4   source        1795 non-null   object\n",
            " 5   country       1795 non-null   object\n",
            "dtypes: int64(1), object(5)\n",
            "memory usage: 84.3+ KB\n"
          ],
          "name": "stdout"
        }
      ]
    },
    {
      "cell_type": "code",
      "metadata": {
        "id": "AdaTTP2NRgPr",
        "colab_type": "code",
        "colab": {},
        "outputId": "098b2435-c2a3-4d5d-9a14-9c444109aca6"
      },
      "source": [
        "# Check for the duplicate values in all the columns\n",
        "for i in data.columns:\n",
        "    print(i,\"\\n\",data[data[i].duplicated()],\"\\n\\n\")"
      ],
      "execution_count": 0,
      "outputs": [
        {
          "output_type": "stream",
          "text": [
            "my_datetime \n",
            "               my_datetime event country_code     user_id   source  \\\n",
            "85    2018-01-01 01:17:48  read    country_8  2458151346   Reddit   \n",
            "96    2018-01-01 01:23:44  read    country_7  2458151357  AdWords   \n",
            "194   2018-01-01 02:46:20  read    country_6  2458151455      SEO   \n",
            "226   2018-01-01 03:10:36  read    country_6  2458151487   Reddit   \n",
            "227   2018-01-01 03:10:36  read    country_6  2458151488  AdWords   \n",
            "267   2018-01-01 03:31:51  read    country_7  2458151528  AdWords   \n",
            "337   2018-01-01 04:26:24  read    country_7  2458151598  AdWords   \n",
            "416   2018-01-01 05:44:15  read    country_7  2458151677   Reddit   \n",
            "420   2018-01-01 05:47:29  read    country_2  2458151681   Reddit   \n",
            "422   2018-01-01 05:47:50  read    country_5  2458151683   Reddit   \n",
            "458   2018-01-01 06:09:59  read    country_7  2458151719   Reddit   \n",
            "495   2018-01-01 06:38:26  read    country_5  2458151756   Reddit   \n",
            "721   2018-01-01 09:48:57  read    country_8  2458151982   Reddit   \n",
            "738   2018-01-01 10:00:14  read    country_7  2458151999   Reddit   \n",
            "772   2018-01-01 10:22:10  read    country_7  2458152033   Reddit   \n",
            "912   2018-01-01 12:14:20  read    country_5  2458152173      SEO   \n",
            "1302  2018-01-01 17:39:00  read    country_8  2458152563  AdWords   \n",
            "1494  2018-01-01 20:20:34  read    country_6  2458152755   Reddit   \n",
            "1536  2018-01-01 20:52:13  read    country_7  2458152797  AdWords   \n",
            "1660  2018-01-01 22:27:20  read    country_4  2458152921   Reddit   \n",
            "1731  2018-01-01 23:16:19  read    country_2  2458152992   Reddit   \n",
            "1793  2018-01-01 23:59:36  read    country_7  2458153054  AdWords   \n",
            "\n",
            "            country  \n",
            "85             Asia  \n",
            "96             Asia  \n",
            "194   North America  \n",
            "226   North America  \n",
            "227       Australia  \n",
            "267            Asia  \n",
            "337          Europe  \n",
            "416   North America  \n",
            "420          Europe  \n",
            "422            Asia  \n",
            "458            Asia  \n",
            "495   South America  \n",
            "721   North America  \n",
            "738            Asia  \n",
            "772          Africa  \n",
            "912   North America  \n",
            "1302         Europe  \n",
            "1494         Africa  \n",
            "1536  North America  \n",
            "1660         Africa  \n",
            "1731  South America  \n",
            "1793         Europe   \n",
            "\n",
            "\n",
            "event \n",
            "               my_datetime event country_code     user_id   source  \\\n",
            "1     2018-01-01 00:03:20  read    country_7  2458151262      SEO   \n",
            "2     2018-01-01 00:04:01  read    country_7  2458151263  AdWords   \n",
            "3     2018-01-01 00:04:02  read    country_7  2458151264  AdWords   \n",
            "4     2018-01-01 00:05:03  read    country_8  2458151265   Reddit   \n",
            "5     2018-01-01 00:05:42  read    country_6  2458151266   Reddit   \n",
            "...                   ...   ...          ...         ...      ...   \n",
            "1790  2018-01-01 23:57:14  read    country_2  2458153051  AdWords   \n",
            "1791  2018-01-01 23:58:33  read    country_8  2458153052      SEO   \n",
            "1792  2018-01-01 23:59:36  read    country_6  2458153053   Reddit   \n",
            "1793  2018-01-01 23:59:36  read    country_7  2458153054  AdWords   \n",
            "1794  2018-01-01 23:59:38  read    country_5  2458153055   Reddit   \n",
            "\n",
            "            country  \n",
            "1     South America  \n",
            "2            Africa  \n",
            "3            Europe  \n",
            "4     North America  \n",
            "5     North America  \n",
            "...             ...  \n",
            "1790  North America  \n",
            "1791           Asia  \n",
            "1792           Asia  \n",
            "1793         Europe  \n",
            "1794           Asia  \n",
            "\n",
            "[1794 rows x 6 columns] \n",
            "\n",
            "\n",
            "country_code \n",
            "               my_datetime event country_code     user_id   source  \\\n",
            "1     2018-01-01 00:03:20  read    country_7  2458151262      SEO   \n",
            "2     2018-01-01 00:04:01  read    country_7  2458151263  AdWords   \n",
            "3     2018-01-01 00:04:02  read    country_7  2458151264  AdWords   \n",
            "7     2018-01-01 00:06:15  read    country_6  2458151268  AdWords   \n",
            "8     2018-01-01 00:07:21  read    country_7  2458151269  AdWords   \n",
            "...                   ...   ...          ...         ...      ...   \n",
            "1790  2018-01-01 23:57:14  read    country_2  2458153051  AdWords   \n",
            "1791  2018-01-01 23:58:33  read    country_8  2458153052      SEO   \n",
            "1792  2018-01-01 23:59:36  read    country_6  2458153053   Reddit   \n",
            "1793  2018-01-01 23:59:36  read    country_7  2458153054  AdWords   \n",
            "1794  2018-01-01 23:59:38  read    country_5  2458153055   Reddit   \n",
            "\n",
            "            country  \n",
            "1     South America  \n",
            "2            Africa  \n",
            "3            Europe  \n",
            "7            Europe  \n",
            "8     North America  \n",
            "...             ...  \n",
            "1790  North America  \n",
            "1791           Asia  \n",
            "1792           Asia  \n",
            "1793         Europe  \n",
            "1794           Asia  \n",
            "\n",
            "[1787 rows x 6 columns] \n",
            "\n",
            "\n",
            "user_id \n",
            " Empty DataFrame\n",
            "Columns: [my_datetime, event, country_code, user_id, source, country]\n",
            "Index: [] \n",
            "\n",
            "\n",
            "source \n",
            "               my_datetime event country_code     user_id   source  \\\n",
            "1     2018-01-01 00:03:20  read    country_7  2458151262      SEO   \n",
            "3     2018-01-01 00:04:02  read    country_7  2458151264  AdWords   \n",
            "5     2018-01-01 00:05:42  read    country_6  2458151266   Reddit   \n",
            "6     2018-01-01 00:06:06  read    country_2  2458151267   Reddit   \n",
            "7     2018-01-01 00:06:15  read    country_6  2458151268  AdWords   \n",
            "...                   ...   ...          ...         ...      ...   \n",
            "1790  2018-01-01 23:57:14  read    country_2  2458153051  AdWords   \n",
            "1791  2018-01-01 23:58:33  read    country_8  2458153052      SEO   \n",
            "1792  2018-01-01 23:59:36  read    country_6  2458153053   Reddit   \n",
            "1793  2018-01-01 23:59:36  read    country_7  2458153054  AdWords   \n",
            "1794  2018-01-01 23:59:38  read    country_5  2458153055   Reddit   \n",
            "\n",
            "            country  \n",
            "1     South America  \n",
            "3            Europe  \n",
            "5     North America  \n",
            "6            Europe  \n",
            "7            Europe  \n",
            "...             ...  \n",
            "1790  North America  \n",
            "1791           Asia  \n",
            "1792           Asia  \n",
            "1793         Europe  \n",
            "1794           Asia  \n",
            "\n",
            "[1792 rows x 6 columns] \n",
            "\n",
            "\n",
            "country \n",
            "               my_datetime event country_code     user_id   source  \\\n",
            "4     2018-01-01 00:05:03  read    country_8  2458151265   Reddit   \n",
            "5     2018-01-01 00:05:42  read    country_6  2458151266   Reddit   \n",
            "6     2018-01-01 00:06:06  read    country_2  2458151267   Reddit   \n",
            "7     2018-01-01 00:06:15  read    country_6  2458151268  AdWords   \n",
            "8     2018-01-01 00:07:21  read    country_7  2458151269  AdWords   \n",
            "...                   ...   ...          ...         ...      ...   \n",
            "1790  2018-01-01 23:57:14  read    country_2  2458153051  AdWords   \n",
            "1791  2018-01-01 23:58:33  read    country_8  2458153052      SEO   \n",
            "1792  2018-01-01 23:59:36  read    country_6  2458153053   Reddit   \n",
            "1793  2018-01-01 23:59:36  read    country_7  2458153054  AdWords   \n",
            "1794  2018-01-01 23:59:38  read    country_5  2458153055   Reddit   \n",
            "\n",
            "            country  \n",
            "4     North America  \n",
            "5     North America  \n",
            "6            Europe  \n",
            "7            Europe  \n",
            "8     North America  \n",
            "...             ...  \n",
            "1790  North America  \n",
            "1791           Asia  \n",
            "1792           Asia  \n",
            "1793         Europe  \n",
            "1794           Asia  \n",
            "\n",
            "[1789 rows x 6 columns] \n",
            "\n",
            "\n"
          ],
          "name": "stdout"
        }
      ]
    },
    {
      "cell_type": "code",
      "metadata": {
        "id": "bbgh16JURgPv",
        "colab_type": "code",
        "colab": {},
        "outputId": "363e8c3a-13e0-48d2-c95a-0fc3ef755335"
      },
      "source": [
        "# Replace the value “South America” from country column with NaN and fill with mode of   the column\n",
        "data.replace({'country' : 'South America'},np.nan,inplace=True)\n",
        "data"
      ],
      "execution_count": 0,
      "outputs": [
        {
          "output_type": "execute_result",
          "data": {
            "text/html": [
              "<div>\n",
              "<style scoped>\n",
              "    .dataframe tbody tr th:only-of-type {\n",
              "        vertical-align: middle;\n",
              "    }\n",
              "\n",
              "    .dataframe tbody tr th {\n",
              "        vertical-align: top;\n",
              "    }\n",
              "\n",
              "    .dataframe thead th {\n",
              "        text-align: right;\n",
              "    }\n",
              "</style>\n",
              "<table border=\"1\" class=\"dataframe\">\n",
              "  <thead>\n",
              "    <tr style=\"text-align: right;\">\n",
              "      <th></th>\n",
              "      <th>my_datetime</th>\n",
              "      <th>event</th>\n",
              "      <th>country_code</th>\n",
              "      <th>user_id</th>\n",
              "      <th>source</th>\n",
              "      <th>country</th>\n",
              "    </tr>\n",
              "  </thead>\n",
              "  <tbody>\n",
              "    <tr>\n",
              "      <th>0</th>\n",
              "      <td>2018-01-01 00:01:01</td>\n",
              "      <td>read</td>\n",
              "      <td>country_7</td>\n",
              "      <td>2458151261</td>\n",
              "      <td>SEO</td>\n",
              "      <td>North America</td>\n",
              "    </tr>\n",
              "    <tr>\n",
              "      <th>1</th>\n",
              "      <td>2018-01-01 00:03:20</td>\n",
              "      <td>read</td>\n",
              "      <td>country_7</td>\n",
              "      <td>2458151262</td>\n",
              "      <td>SEO</td>\n",
              "      <td>NaN</td>\n",
              "    </tr>\n",
              "    <tr>\n",
              "      <th>2</th>\n",
              "      <td>2018-01-01 00:04:01</td>\n",
              "      <td>read</td>\n",
              "      <td>country_7</td>\n",
              "      <td>2458151263</td>\n",
              "      <td>AdWords</td>\n",
              "      <td>Africa</td>\n",
              "    </tr>\n",
              "    <tr>\n",
              "      <th>3</th>\n",
              "      <td>2018-01-01 00:04:02</td>\n",
              "      <td>read</td>\n",
              "      <td>country_7</td>\n",
              "      <td>2458151264</td>\n",
              "      <td>AdWords</td>\n",
              "      <td>Europe</td>\n",
              "    </tr>\n",
              "    <tr>\n",
              "      <th>4</th>\n",
              "      <td>2018-01-01 00:05:03</td>\n",
              "      <td>read</td>\n",
              "      <td>country_8</td>\n",
              "      <td>2458151265</td>\n",
              "      <td>Reddit</td>\n",
              "      <td>North America</td>\n",
              "    </tr>\n",
              "    <tr>\n",
              "      <th>...</th>\n",
              "      <td>...</td>\n",
              "      <td>...</td>\n",
              "      <td>...</td>\n",
              "      <td>...</td>\n",
              "      <td>...</td>\n",
              "      <td>...</td>\n",
              "    </tr>\n",
              "    <tr>\n",
              "      <th>1790</th>\n",
              "      <td>2018-01-01 23:57:14</td>\n",
              "      <td>read</td>\n",
              "      <td>country_2</td>\n",
              "      <td>2458153051</td>\n",
              "      <td>AdWords</td>\n",
              "      <td>North America</td>\n",
              "    </tr>\n",
              "    <tr>\n",
              "      <th>1791</th>\n",
              "      <td>2018-01-01 23:58:33</td>\n",
              "      <td>read</td>\n",
              "      <td>country_8</td>\n",
              "      <td>2458153052</td>\n",
              "      <td>SEO</td>\n",
              "      <td>Asia</td>\n",
              "    </tr>\n",
              "    <tr>\n",
              "      <th>1792</th>\n",
              "      <td>2018-01-01 23:59:36</td>\n",
              "      <td>read</td>\n",
              "      <td>country_6</td>\n",
              "      <td>2458153053</td>\n",
              "      <td>Reddit</td>\n",
              "      <td>Asia</td>\n",
              "    </tr>\n",
              "    <tr>\n",
              "      <th>1793</th>\n",
              "      <td>2018-01-01 23:59:36</td>\n",
              "      <td>read</td>\n",
              "      <td>country_7</td>\n",
              "      <td>2458153054</td>\n",
              "      <td>AdWords</td>\n",
              "      <td>Europe</td>\n",
              "    </tr>\n",
              "    <tr>\n",
              "      <th>1794</th>\n",
              "      <td>2018-01-01 23:59:38</td>\n",
              "      <td>read</td>\n",
              "      <td>country_5</td>\n",
              "      <td>2458153055</td>\n",
              "      <td>Reddit</td>\n",
              "      <td>Asia</td>\n",
              "    </tr>\n",
              "  </tbody>\n",
              "</table>\n",
              "<p>1795 rows × 6 columns</p>\n",
              "</div>"
            ],
            "text/plain": [
              "              my_datetime event country_code     user_id   source  \\\n",
              "0     2018-01-01 00:01:01  read    country_7  2458151261      SEO   \n",
              "1     2018-01-01 00:03:20  read    country_7  2458151262      SEO   \n",
              "2     2018-01-01 00:04:01  read    country_7  2458151263  AdWords   \n",
              "3     2018-01-01 00:04:02  read    country_7  2458151264  AdWords   \n",
              "4     2018-01-01 00:05:03  read    country_8  2458151265   Reddit   \n",
              "...                   ...   ...          ...         ...      ...   \n",
              "1790  2018-01-01 23:57:14  read    country_2  2458153051  AdWords   \n",
              "1791  2018-01-01 23:58:33  read    country_8  2458153052      SEO   \n",
              "1792  2018-01-01 23:59:36  read    country_6  2458153053   Reddit   \n",
              "1793  2018-01-01 23:59:36  read    country_7  2458153054  AdWords   \n",
              "1794  2018-01-01 23:59:38  read    country_5  2458153055   Reddit   \n",
              "\n",
              "            country  \n",
              "0     North America  \n",
              "1               NaN  \n",
              "2            Africa  \n",
              "3            Europe  \n",
              "4     North America  \n",
              "...             ...  \n",
              "1790  North America  \n",
              "1791           Asia  \n",
              "1792           Asia  \n",
              "1793         Europe  \n",
              "1794           Asia  \n",
              "\n",
              "[1795 rows x 6 columns]"
            ]
          },
          "metadata": {
            "tags": []
          },
          "execution_count": 22
        }
      ]
    },
    {
      "cell_type": "code",
      "metadata": {
        "id": "EmpcazUBRgP0",
        "colab_type": "code",
        "colab": {},
        "outputId": "a26404b8-b397-412f-8ccd-824aa6a5afaf"
      },
      "source": [
        "data['country']=data['country'].fillna(data.country.mode().iloc[0])\n",
        "data"
      ],
      "execution_count": 0,
      "outputs": [
        {
          "output_type": "execute_result",
          "data": {
            "text/html": [
              "<div>\n",
              "<style scoped>\n",
              "    .dataframe tbody tr th:only-of-type {\n",
              "        vertical-align: middle;\n",
              "    }\n",
              "\n",
              "    .dataframe tbody tr th {\n",
              "        vertical-align: top;\n",
              "    }\n",
              "\n",
              "    .dataframe thead th {\n",
              "        text-align: right;\n",
              "    }\n",
              "</style>\n",
              "<table border=\"1\" class=\"dataframe\">\n",
              "  <thead>\n",
              "    <tr style=\"text-align: right;\">\n",
              "      <th></th>\n",
              "      <th>my_datetime</th>\n",
              "      <th>event</th>\n",
              "      <th>country_code</th>\n",
              "      <th>user_id</th>\n",
              "      <th>source</th>\n",
              "      <th>country</th>\n",
              "    </tr>\n",
              "  </thead>\n",
              "  <tbody>\n",
              "    <tr>\n",
              "      <th>0</th>\n",
              "      <td>2018-01-01 00:01:01</td>\n",
              "      <td>read</td>\n",
              "      <td>country_7</td>\n",
              "      <td>2458151261</td>\n",
              "      <td>SEO</td>\n",
              "      <td>North America</td>\n",
              "    </tr>\n",
              "    <tr>\n",
              "      <th>1</th>\n",
              "      <td>2018-01-01 00:03:20</td>\n",
              "      <td>read</td>\n",
              "      <td>country_7</td>\n",
              "      <td>2458151262</td>\n",
              "      <td>SEO</td>\n",
              "      <td>Asia</td>\n",
              "    </tr>\n",
              "    <tr>\n",
              "      <th>2</th>\n",
              "      <td>2018-01-01 00:04:01</td>\n",
              "      <td>read</td>\n",
              "      <td>country_7</td>\n",
              "      <td>2458151263</td>\n",
              "      <td>AdWords</td>\n",
              "      <td>Africa</td>\n",
              "    </tr>\n",
              "    <tr>\n",
              "      <th>3</th>\n",
              "      <td>2018-01-01 00:04:02</td>\n",
              "      <td>read</td>\n",
              "      <td>country_7</td>\n",
              "      <td>2458151264</td>\n",
              "      <td>AdWords</td>\n",
              "      <td>Europe</td>\n",
              "    </tr>\n",
              "    <tr>\n",
              "      <th>4</th>\n",
              "      <td>2018-01-01 00:05:03</td>\n",
              "      <td>read</td>\n",
              "      <td>country_8</td>\n",
              "      <td>2458151265</td>\n",
              "      <td>Reddit</td>\n",
              "      <td>North America</td>\n",
              "    </tr>\n",
              "    <tr>\n",
              "      <th>...</th>\n",
              "      <td>...</td>\n",
              "      <td>...</td>\n",
              "      <td>...</td>\n",
              "      <td>...</td>\n",
              "      <td>...</td>\n",
              "      <td>...</td>\n",
              "    </tr>\n",
              "    <tr>\n",
              "      <th>1790</th>\n",
              "      <td>2018-01-01 23:57:14</td>\n",
              "      <td>read</td>\n",
              "      <td>country_2</td>\n",
              "      <td>2458153051</td>\n",
              "      <td>AdWords</td>\n",
              "      <td>North America</td>\n",
              "    </tr>\n",
              "    <tr>\n",
              "      <th>1791</th>\n",
              "      <td>2018-01-01 23:58:33</td>\n",
              "      <td>read</td>\n",
              "      <td>country_8</td>\n",
              "      <td>2458153052</td>\n",
              "      <td>SEO</td>\n",
              "      <td>Asia</td>\n",
              "    </tr>\n",
              "    <tr>\n",
              "      <th>1792</th>\n",
              "      <td>2018-01-01 23:59:36</td>\n",
              "      <td>read</td>\n",
              "      <td>country_6</td>\n",
              "      <td>2458153053</td>\n",
              "      <td>Reddit</td>\n",
              "      <td>Asia</td>\n",
              "    </tr>\n",
              "    <tr>\n",
              "      <th>1793</th>\n",
              "      <td>2018-01-01 23:59:36</td>\n",
              "      <td>read</td>\n",
              "      <td>country_7</td>\n",
              "      <td>2458153054</td>\n",
              "      <td>AdWords</td>\n",
              "      <td>Europe</td>\n",
              "    </tr>\n",
              "    <tr>\n",
              "      <th>1794</th>\n",
              "      <td>2018-01-01 23:59:38</td>\n",
              "      <td>read</td>\n",
              "      <td>country_5</td>\n",
              "      <td>2458153055</td>\n",
              "      <td>Reddit</td>\n",
              "      <td>Asia</td>\n",
              "    </tr>\n",
              "  </tbody>\n",
              "</table>\n",
              "<p>1795 rows × 6 columns</p>\n",
              "</div>"
            ],
            "text/plain": [
              "              my_datetime event country_code     user_id   source  \\\n",
              "0     2018-01-01 00:01:01  read    country_7  2458151261      SEO   \n",
              "1     2018-01-01 00:03:20  read    country_7  2458151262      SEO   \n",
              "2     2018-01-01 00:04:01  read    country_7  2458151263  AdWords   \n",
              "3     2018-01-01 00:04:02  read    country_7  2458151264  AdWords   \n",
              "4     2018-01-01 00:05:03  read    country_8  2458151265   Reddit   \n",
              "...                   ...   ...          ...         ...      ...   \n",
              "1790  2018-01-01 23:57:14  read    country_2  2458153051  AdWords   \n",
              "1791  2018-01-01 23:58:33  read    country_8  2458153052      SEO   \n",
              "1792  2018-01-01 23:59:36  read    country_6  2458153053   Reddit   \n",
              "1793  2018-01-01 23:59:36  read    country_7  2458153054  AdWords   \n",
              "1794  2018-01-01 23:59:38  read    country_5  2458153055   Reddit   \n",
              "\n",
              "            country  \n",
              "0     North America  \n",
              "1              Asia  \n",
              "2            Africa  \n",
              "3            Europe  \n",
              "4     North America  \n",
              "...             ...  \n",
              "1790  North America  \n",
              "1791           Asia  \n",
              "1792           Asia  \n",
              "1793         Europe  \n",
              "1794           Asia  \n",
              "\n",
              "[1795 rows x 6 columns]"
            ]
          },
          "metadata": {
            "tags": []
          },
          "execution_count": 23
        }
      ]
    },
    {
      "cell_type": "code",
      "metadata": {
        "id": "7Drn8wW1RgP5",
        "colab_type": "code",
        "colab": {},
        "outputId": "351f688e-2c97-404f-8856-71a61ce2c0fc"
      },
      "source": [
        "#Check the count of categories being repeated in the source column.\n",
        "data['source'].value_counts()"
      ],
      "execution_count": 0,
      "outputs": [
        {
          "output_type": "execute_result",
          "data": {
            "text/plain": [
              "Reddit     949\n",
              "AdWords    500\n",
              "SEO        346\n",
              "Name: source, dtype: int64"
            ]
          },
          "metadata": {
            "tags": []
          },
          "execution_count": 24
        }
      ]
    },
    {
      "cell_type": "code",
      "metadata": {
        "id": "umrR0FoFRgP-",
        "colab_type": "code",
        "colab": {}
      },
      "source": [
        ""
      ],
      "execution_count": 0,
      "outputs": []
    }
  ]
}