{
  "nbformat": 4,
  "nbformat_minor": 0,
  "metadata": {
    "colab": {
      "name": "data science 27-05-2020",
      "provenance": []
    },
    "kernelspec": {
      "name": "python3",
      "display_name": "Python 3"
    }
  },
  "cells": [
    {
      "cell_type": "code",
      "metadata": {
        "id": "xcofus4MA1ou",
        "colab_type": "code",
        "colab": {}
      },
      "source": [
        ""
      ],
      "execution_count": 0,
      "outputs": []
    },
    {
      "cell_type": "code",
      "metadata": {
        "id": "FqEVuVqoBFBq",
        "colab_type": "code",
        "colab": {}
      },
      "source": [
        ""
      ],
      "execution_count": 0,
      "outputs": []
    },
    {
      "cell_type": "markdown",
      "metadata": {
        "id": "6aNtGDlGBGiG",
        "colab_type": "text"
      },
      "source": [
        "pattern program\n"
      ]
    },
    {
      "cell_type": "code",
      "metadata": {
        "id": "dYr1QKPaBJ3G",
        "colab_type": "code",
        "outputId": "5d8f0839-eb01-4920-96e0-b44d3ec721e6",
        "colab": {
          "base_uri": "https://localhost:8080/",
          "height": 204
        }
      },
      "source": [
        "rows=int(input(\"enter number of rows\"))\n",
        "for i in range (0,rows):\n",
        "  for j in range(0,i+1):\n",
        "    print(\"*\",end=' ')\n",
        "\n",
        "\n",
        "  print(\"\\n\")"
      ],
      "execution_count": 0,
      "outputs": [
        {
          "output_type": "stream",
          "text": [
            "enter number of rows5\n",
            "* \n",
            "\n",
            "* * \n",
            "\n",
            "* * * \n",
            "\n",
            "* * * * \n",
            "\n",
            "* * * * * \n",
            "\n"
          ],
          "name": "stdout"
        }
      ]
    },
    {
      "cell_type": "markdown",
      "metadata": {
        "id": "6fzzhW77B33T",
        "colab_type": "text"
      },
      "source": [
        "MULTIPLICATION TABLE OF K"
      ]
    },
    {
      "cell_type": "code",
      "metadata": {
        "id": "4khArAlaB_0k",
        "colab_type": "code",
        "outputId": "e1ad32a4-fd32-40d7-c595-2c357d547331",
        "colab": {
          "base_uri": "https://localhost:8080/",
          "height": 204
        }
      },
      "source": [
        "num=int(input(\"enter the number\"))\n",
        "for i in range(1, 11):\n",
        "  print(num, 'x', i, '=', num*i)"
      ],
      "execution_count": 0,
      "outputs": [
        {
          "output_type": "stream",
          "text": [
            "enter the number5\n",
            "5 x 1 = 5\n",
            "5 x 2 = 10\n",
            "5 x 3 = 15\n",
            "5 x 4 = 20\n",
            "5 x 5 = 25\n",
            "5 x 6 = 30\n",
            "5 x 7 = 35\n",
            "5 x 8 = 40\n",
            "5 x 9 = 45\n",
            "5 x 10 = 50\n"
          ],
          "name": "stdout"
        }
      ]
    },
    {
      "cell_type": "markdown",
      "metadata": {
        "id": "rkXJ6McUCl0Q",
        "colab_type": "text"
      },
      "source": [
        "ROOTS OF A QUADRATIC EQUATION"
      ]
    },
    {
      "cell_type": "code",
      "metadata": {
        "id": "PBlfFM4KCp3V",
        "colab_type": "code",
        "outputId": "8a4f9dad-f2b6-49d3-cc14-a62f75d097e8",
        "colab": {
          "base_uri": "https://localhost:8080/",
          "height": 85
        }
      },
      "source": [
        "import cmath\n",
        "a=int(input(\"enter a value\"))\n",
        "b=int(input(\"enter b value\"))\n",
        "c=int(input(\"enter c value\"))\n",
        "d= (b**2) - (4*a*c)\n",
        "sol1 =(-b-cmath.sqrt(d))/(2*a)\n",
        "sol2 =(-b-cmath.sqrt(d))/(2*a)\n",
        "print('the solution are {0} and {1}'.format(sol1,sol2))\n",
        "\n"
      ],
      "execution_count": 0,
      "outputs": [
        {
          "output_type": "stream",
          "text": [
            "enter a value1\n",
            "enter b value5\n",
            "enter c value6\n",
            "the solution are (-3+0j) and (-3+0j)\n"
          ],
          "name": "stdout"
        }
      ]
    },
    {
      "cell_type": "markdown",
      "metadata": {
        "id": "H2gw_BlGH6dn",
        "colab_type": "text"
      },
      "source": [
        "CONVERSION OF DECIMAL INTO BINARY\n"
      ]
    },
    {
      "cell_type": "code",
      "metadata": {
        "id": "WtJCUauxIKqE",
        "colab_type": "code",
        "outputId": "40046f8b-3883-483f-9ab0-56bf4878ccb0",
        "colab": {
          "base_uri": "https://localhost:8080/",
          "height": 51
        }
      },
      "source": [
        "def convertToBinary(n):\n",
        "  if n>1:\n",
        "      convertToBinary(n//2)\n",
        "  print(n % 2,end = '')\n",
        "dec = int(input(\"enter the decimal number\"))\n",
        "convertToBinary(dec)\n",
        "print()"
      ],
      "execution_count": 0,
      "outputs": [
        {
          "output_type": "stream",
          "text": [
            "enter the decimal number110\n",
            "1101110\n"
          ],
          "name": "stdout"
        }
      ]
    },
    {
      "cell_type": "markdown",
      "metadata": {
        "id": "lcxYj3TlIGgR",
        "colab_type": "text"
      },
      "source": [
        ""
      ]
    },
    {
      "cell_type": "code",
      "metadata": {
        "id": "DzqgwlIYIDHz",
        "colab_type": "code",
        "colab": {}
      },
      "source": [
        ""
      ],
      "execution_count": 0,
      "outputs": []
    },
    {
      "cell_type": "code",
      "metadata": {
        "id": "gcGJvhIxUj6R",
        "colab_type": "code",
        "colab": {}
      },
      "source": [
        ""
      ],
      "execution_count": 0,
      "outputs": []
    }
  ]
}